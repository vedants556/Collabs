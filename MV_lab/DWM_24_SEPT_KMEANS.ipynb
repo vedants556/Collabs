{
  "nbformat": 4,
  "nbformat_minor": 0,
  "metadata": {
    "colab": {
      "private_outputs": true,
      "provenance": []
    },
    "kernelspec": {
      "name": "python3",
      "display_name": "Python 3"
    },
    "language_info": {
      "name": "python"
    }
  },
  "cells": [
    {
      "cell_type": "markdown",
      "source": [
        "NAME: SANIKA ARUN DUDHAL\n",
        "\n",
        "ROLL NO: 22102A0008\n",
        "\n",
        "TE CMPN A"
      ],
      "metadata": {
        "id": "cQXQixVoE9kW"
      }
    },
    {
      "cell_type": "markdown",
      "source": [
        "K-MEANS Clustering Algorithm\n"
      ],
      "metadata": {
        "id": "E0oR8XQTdye2"
      }
    },
    {
      "cell_type": "code",
      "execution_count": null,
      "metadata": {
        "id": "dj8wXyhjqfeh"
      },
      "outputs": [],
      "source": [
        "import pandas as pd\n",
        "import random\n",
        "import statistics as st\n",
        "import matplotlib.pyplot as plt"
      ]
    },
    {
      "cell_type": "code",
      "source": [
        "inp = [2, 4, 10, 12, 3, 20, 30, 50, 40, 80]\n",
        "k = 2\n",
        "cent = random.sample(inp, k)\n",
        "cent"
      ],
      "metadata": {
        "id": "_UJN83YUooxJ"
      },
      "execution_count": null,
      "outputs": []
    },
    {
      "cell_type": "code",
      "source": [
        "def dist(a,b):\n",
        "  return abs(a-b)\n",
        "\n",
        "c1=[]\n",
        "c2=[]\n",
        "cluster1=[]\n",
        "cluster2=[]\n",
        "\n",
        "mean1=0\n",
        "mean2=0\n",
        "prev_mean1=1\n",
        "prev_mean2=1\n",
        "c=0\n",
        "while(prev_mean1!=mean1 and prev_mean2!=mean2):\n",
        "  c+=1\n",
        "  prev_mean1=mean1\n",
        "  prev_mean2=mean2\n",
        "\n",
        "  cluster1=[]\n",
        "  cluster2=[]\n",
        "\n",
        "  for i in inp:\n",
        "    d1=dist(i,cent[0])\n",
        "    d2=dist(i,cent[1])\n",
        "    if(d1<d2):\n",
        "      cluster1.append(i)\n",
        "    else:\n",
        "      cluster2.append(i)\n",
        "\n",
        "  mean1=round(st.mean(cluster1),2)\n",
        "  mean2=round(st.mean(cluster2),2)\n",
        "\n",
        "\n",
        "  cent[0]=round(st.mean(cluster1),2)\n",
        "  cent[1]=round(st.mean(cluster2),2)\n",
        "\n",
        "  print(\"Iterations : \",c)\n",
        "  print(\"Cluster 1 : \",cluster1)\n",
        "  print(\"Cluster 2 : \",cluster2)\n",
        "  print(\"CENTROID : \",cent)\n",
        "  print(\"Previous Mean : \",mean1,mean2)\n",
        "\n",
        "print(\"\\nFinal Clusters\",cluster1,cluster2)\n",
        "print(\"Final Centroids : \",cent)\n",
        "print(\"Final Mean : \",st.mean(cluster1),st.mean(cluster2))\n",
        "print(\"Final Previous Mean : \",mean1,mean2)\n",
        "print(\"Iterations : \",c)"
      ],
      "metadata": {
        "id": "Auq3OsfFWXnk"
      },
      "execution_count": null,
      "outputs": []
    }
  ]
}